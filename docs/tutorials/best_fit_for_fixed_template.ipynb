{
 "cells": [
  {
   "cell_type": "markdown",
   "metadata": {},
   "source": [
    "# Finding the best fit rotational broadening and radial velocity\n",
    "\n",
    "Often in astronomy we have a data spectrum and we want to answer the question:  \n",
    "*What is the best fit $v\\sin{i}$ and RV for this data?*\n",
    "\n",
    "In this demo we will show some simple ways to use `gollum` to find the model with the best fit rotational broadening and radial velocity, assuming a fixed template."
   ]
  },
  {
   "cell_type": "code",
   "execution_count": null,
   "metadata": {},
   "outputs": [],
   "source": [
    "from gollum.phoenix import PHOENIXSpectrum, PHOENIXGrid\n",
    "import numpy as np\n",
    "import astropy.units as u\n",
    "import matplotlib.pyplot as plt\n",
    "from tqdm.notebook import tqdm\n",
    "%config InlineBackend.figure_format='retina'"
   ]
  },
  {
   "cell_type": "markdown",
   "metadata": {},
   "source": [
    "### For this demo we will need some real world example data\n",
    "\n",
    "Let's use data of an A0V star from [HPF](https://hpf.psu.edu) and our sibling package [muler](https://muler.readthedocs.io/en/latest/).  You can get free example data from the [muler example data GitHub repository](https://github.com/OttoStruve/muler_example_data)."
   ]
  },
  {
   "cell_type": "code",
   "execution_count": null,
   "metadata": {},
   "outputs": [],
   "source": [
    "from muler.hpf import HPFSpectrumList, HPFSpectrum"
   ]
  },
  {
   "cell_type": "code",
   "execution_count": null,
   "metadata": {},
   "outputs": [],
   "source": [
    "local_file = '../../../muler_example_data/HPF/01_A0V_standards/Goldilocks_20210517T054403_v1.0_0060.spectra.fits'\n",
    "raw_data = HPFSpectrumList.read(local_file)"
   ]
  },
  {
   "cell_type": "code",
   "execution_count": null,
   "metadata": {},
   "outputs": [],
   "source": [
    "def data_clean(data):\n",
    "    \"\"\"Clean the HPF data with standard post-processing techniques\"\"\"\n",
    "    data = data.sky_subtract(method='vector')\n",
    "    data = data.deblaze()\n",
    "    data = data.trim_edges((4, 2042))\n",
    "    data = data.normalize()\n",
    "    data = data.stitch()\n",
    "    return data"
   ]
  },
  {
   "cell_type": "code",
   "execution_count": null,
   "metadata": {},
   "outputs": [],
   "source": [
    "full_data = data_clean(raw_data)"
   ]
  },
  {
   "cell_type": "markdown",
   "metadata": {},
   "source": [
    "As a final step, we will mask the telluric absorption lines.  This step can sometimes benefit from hand-tuning."
   ]
  },
  {
   "cell_type": "code",
   "execution_count": null,
   "metadata": {},
   "outputs": [],
   "source": [
    "data = full_data.mask_tellurics(threshold=0.999, dilation=13)"
   ]
  },
  {
   "cell_type": "markdown",
   "metadata": {},
   "source": [
    "We will restrict our fits to the region with the highest density of H lines."
   ]
  },
  {
   "cell_type": "code",
   "execution_count": null,
   "metadata": {},
   "outputs": [],
   "source": [
    "data = data[8500*u.Angstrom:8950*u.Angstrom]\n",
    "data = data.normalize()"
   ]
  },
  {
   "cell_type": "code",
   "execution_count": null,
   "metadata": {},
   "outputs": [],
   "source": [
    "ax = data.plot(marker='.', linestyle='None');\n",
    "ax.set_xlim(8500, 8950);"
   ]
  },
  {
   "cell_type": "markdown",
   "metadata": {},
   "source": [
    "OK, that's our data spectrum against which we will compare models.  You can see large voids in the spectrum due to our telluric masking-- that's fine, the data need not be contiguous or evenly sampled to estimate a best fit model.  We will resample the model to the data."
   ]
  },
  {
   "cell_type": "markdown",
   "metadata": {},
   "source": [
    "We can choose 3 dimensions in our grid: $T_{\\mathrm{eff}}, \\log{g}, \\left[\\frac{\\mathrm{Fe}}{\\mathrm{H}}\\right]$"
   ]
  },
  {
   "cell_type": "code",
   "execution_count": null,
   "metadata": {},
   "outputs": [],
   "source": [
    "template = PHOENIXSpectrum(teff=9_600, logg=4.5, metallicity=0)"
   ]
  },
  {
   "cell_type": "markdown",
   "metadata": {},
   "source": [
    "We then want to rotationally broaden and RV shift the spectrum.  We'll try some guesses first:"
   ]
  },
  {
   "cell_type": "code",
   "execution_count": null,
   "metadata": {},
   "outputs": [],
   "source": [
    "guess_vsini = 150\n",
    "guess_RV = -50"
   ]
  },
  {
   "cell_type": "code",
   "execution_count": null,
   "metadata": {},
   "outputs": [],
   "source": [
    "spec = template.rotationally_broaden(guess_vsini)\\\n",
    "            .rv_shift(guess_RV)\\\n",
    "            .instrumental_broaden(resolving_power=55_000)\\\n",
    "            .resample(data)\\\n",
    "            .normalize()"
   ]
  },
  {
   "cell_type": "code",
   "execution_count": null,
   "metadata": {},
   "outputs": [],
   "source": [
    "ax = data.plot(label='Data')\n",
    "spec.plot(ax=ax, label='Doctored Model')\n",
    "ax.legend();"
   ]
  },
  {
   "cell_type": "markdown",
   "metadata": {},
   "source": [
    "You can see that our guess RV is off.  Let's do a grid search for $v\\sin{i}$ and RV."
   ]
  },
  {
   "cell_type": "code",
   "execution_count": null,
   "metadata": {},
   "outputs": [],
   "source": [
    "n_vsinis = 20\n",
    "n_RVs = 20\n",
    "vsinis = np.linspace(1, 150.0, n_vsinis)\n",
    "RVs = np.linspace(-100.0, 100.0, n_RVs)"
   ]
  },
  {
   "cell_type": "code",
   "execution_count": null,
   "metadata": {},
   "outputs": [],
   "source": [
    "loss_values = np.zeros((n_vsinis, n_RVs))"
   ]
  },
  {
   "cell_type": "markdown",
   "metadata": {},
   "source": [
    "We will compute the sum-of-the-squares-of-the-residuals (\"chi-squared\") for each value of $v\\sin{i}$ and RV."
   ]
  },
  {
   "cell_type": "code",
   "execution_count": null,
   "metadata": {},
   "outputs": [],
   "source": [
    "for i, vsini in tqdm(enumerate(vsinis), total=n_vsinis):\n",
    "    for j, RV in enumerate(RVs):\n",
    "            spec = template.rotationally_broaden(vsini)\\\n",
    "                .rv_shift(RV)\\\n",
    "                .instrumental_broaden(resolving_power=55_000)\\\n",
    "                .resample(data)\\\n",
    "                .normalize()\n",
    "            residual = data.subtract(spec, handle_meta='ff')\n",
    "            chi2_loss = np.sum(0.5*residual.flux.value**2/residual.uncertainty.array**2)\n",
    "\n",
    "            loss_values[i,j] = chi2_loss"
   ]
  },
  {
   "cell_type": "markdown",
   "metadata": {},
   "source": [
    "The best fit values minimizes the chi-squared."
   ]
  },
  {
   "cell_type": "code",
   "execution_count": null,
   "metadata": {},
   "outputs": [],
   "source": [
    "best_i, best_j = np.unravel_index(np.argmin(loss_values), loss_values.shape)"
   ]
  },
  {
   "cell_type": "code",
   "execution_count": null,
   "metadata": {},
   "outputs": [],
   "source": [
    "best_vsini, best_RV = vsinis[best_i], RVs[best_j]\n",
    "best_RV, best_vsini"
   ]
  },
  {
   "cell_type": "code",
   "execution_count": null,
   "metadata": {},
   "outputs": [],
   "source": [
    "extent=[RVs.min(), RVs.max(), vsinis.min(), vsinis.max()]\n",
    "plt.imshow(loss_values, extent=extent, aspect=1, origin='lower')\n",
    "plt.scatter(best_RV,best_vsini,  marker='*', c='w', ec='k', s=200)\n",
    "plt.xlabel('RV ($\\mathrm{km}\\;\\mathrm{s}^{-1}$)')\n",
    "plt.ylabel('$v\\sin{i}$ ($\\mathrm{km}\\;\\mathrm{s}^{-1}$)');"
   ]
  },
  {
   "cell_type": "markdown",
   "metadata": {},
   "source": [
    "Awesome, we have found the RV and $v\\sin{i}$ with the closest match to the data."
   ]
  },
  {
   "cell_type": "code",
   "execution_count": null,
   "metadata": {},
   "outputs": [],
   "source": [
    "best_spec_full = template.rotationally_broaden(best_vsini)\\\n",
    "            .rv_shift(best_RV)\\\n",
    "            .instrumental_broaden(resolving_power=55_000)\n",
    "best_spec = best_spec_full[data.wavelength.min():data.wavelength.max()].normalize()"
   ]
  },
  {
   "cell_type": "markdown",
   "metadata": {},
   "source": [
    "How does the best fit look by-eye?"
   ]
  },
  {
   "cell_type": "code",
   "execution_count": null,
   "metadata": {},
   "outputs": [],
   "source": [
    "ax=(data/data.flux.max()).plot(marker='.', linestyle='None')\n",
    "(best_spec/best_spec.flux.max()).plot(ax=ax)\n",
    "title1 = '$v\\sin{i} = $'+'{:0.0f}'.format(best_vsini)+' km/s,   '\n",
    "title2 = 'RV = '+'{:0.1f}'.format(best_RV)+' km/s'\n",
    "title = title1 + title2\n",
    "ax.set_title(title);"
   ]
  },
  {
   "cell_type": "markdown",
   "metadata": {},
   "source": [
    "Excellent!  That's much better than our initial guess.  It's still not *perfect* because the model template has imperfections."
   ]
  }
 ],
 "metadata": {
  "kernelspec": {
   "display_name": "Python 3 (ipykernel)",
   "language": "python",
   "name": "python3"
  },
  "language_info": {
   "codemirror_mode": {
    "name": "ipython",
    "version": 3
   },
   "file_extension": ".py",
   "mimetype": "text/x-python",
   "name": "python",
   "nbconvert_exporter": "python",
   "pygments_lexer": "ipython3",
   "version": "3.8.10"
  }
 },
 "nbformat": 4,
 "nbformat_minor": 4
}
