{
 "cells": [
  {
   "cell_type": "markdown",
   "id": "9aacc247",
   "metadata": {},
   "source": [
    "# Integrating under a filter curve with `gollum`\n",
    "\n",
    "Synthetic photometry is common technique to compare the predicted flux in a given astronomical filter to the observed flux seen in images.  Here we show how to generate synthetic photometry."
   ]
  },
  {
   "cell_type": "code",
   "execution_count": 1,
   "id": "9e54e2c6",
   "metadata": {},
   "outputs": [],
   "source": [
    "from gollum.phoenix import PHOENIXGrid, PHOENIXSpectrum\n",
    "from specutils import Spectrum1D\n",
    "import pandas as pd\n",
    "import astropy.units as u\n",
    "import numpy as np\n",
    "from urllib.error import URLError\n",
    "\n",
    "import matplotlib.pyplot as plt\n",
    "%config InlineBackend.figure_format = 'retina'"
   ]
  },
  {
   "cell_type": "markdown",
   "id": "8e6e05d6",
   "metadata": {},
   "source": [
    "## Fetch the filter curve"
   ]
  },
  {
   "cell_type": "code",
   "execution_count": 2,
   "id": "e10d2d53",
   "metadata": {},
   "outputs": [],
   "source": [
    "tess_filter_curve_website = 'https://heasarc.gsfc.nasa.gov/docs/tess/data/tess-response-function-v1.0.csv'\n",
    "local_file = 'tess-response-function-v1.0.csv'"
   ]
  },
  {
   "cell_type": "code",
   "execution_count": 3,
   "id": "5d9b139f",
   "metadata": {},
   "outputs": [],
   "source": [
    "# try to directly read from the website first, if not then download the file locally\n",
    "try:\n",
    "    tess_response = pd.read_csv(tess_filter_curve_website, skiprows=8, names=['wl_nm', 'transmission'])\n",
    "except URLError:\n",
    "    tess_response = pd.read_csv(local_file, skiprows=8, names=['wl_nm', 'transmission'])"
   ]
  },
  {
   "cell_type": "code",
   "execution_count": 4,
   "id": "8db141f2",
   "metadata": {},
   "outputs": [
    {
     "data": {
      "text/html": [
       "<div>\n",
       "<style scoped>\n",
       "    .dataframe tbody tr th:only-of-type {\n",
       "        vertical-align: middle;\n",
       "    }\n",
       "\n",
       "    .dataframe tbody tr th {\n",
       "        vertical-align: top;\n",
       "    }\n",
       "\n",
       "    .dataframe thead th {\n",
       "        text-align: right;\n",
       "    }\n",
       "</style>\n",
       "<table border=\"1\" class=\"dataframe\">\n",
       "  <thead>\n",
       "    <tr style=\"text-align: right;\">\n",
       "      <th></th>\n",
       "      <th>wl_nm</th>\n",
       "      <th>transmission</th>\n",
       "    </tr>\n",
       "  </thead>\n",
       "  <tbody>\n",
       "    <tr>\n",
       "      <th>0</th>\n",
       "      <td>454.050074</td>\n",
       "      <td>0.000000</td>\n",
       "    </tr>\n",
       "    <tr>\n",
       "      <th>1</th>\n",
       "      <td>463.770250</td>\n",
       "      <td>0.000000</td>\n",
       "    </tr>\n",
       "    <tr>\n",
       "      <th>2</th>\n",
       "      <td>472.606775</td>\n",
       "      <td>0.000000</td>\n",
       "    </tr>\n",
       "    <tr>\n",
       "      <th>3</th>\n",
       "      <td>507.069219</td>\n",
       "      <td>0.000000</td>\n",
       "    </tr>\n",
       "    <tr>\n",
       "      <th>4</th>\n",
       "      <td>536.229750</td>\n",
       "      <td>0.000000</td>\n",
       "    </tr>\n",
       "    <tr>\n",
       "      <th>...</th>\n",
       "      <td>...</td>\n",
       "      <td>...</td>\n",
       "    </tr>\n",
       "    <tr>\n",
       "      <th>174</th>\n",
       "      <td>1101.806290</td>\n",
       "      <td>0.025735</td>\n",
       "    </tr>\n",
       "    <tr>\n",
       "      <th>175</th>\n",
       "      <td>1109.746167</td>\n",
       "      <td>0.016912</td>\n",
       "    </tr>\n",
       "    <tr>\n",
       "      <th>176</th>\n",
       "      <td>1115.921987</td>\n",
       "      <td>0.010294</td>\n",
       "    </tr>\n",
       "    <tr>\n",
       "      <th>177</th>\n",
       "      <td>1122.978212</td>\n",
       "      <td>0.001471</td>\n",
       "    </tr>\n",
       "    <tr>\n",
       "      <th>178</th>\n",
       "      <td>1129.157281</td>\n",
       "      <td>0.000000</td>\n",
       "    </tr>\n",
       "  </tbody>\n",
       "</table>\n",
       "<p>179 rows × 2 columns</p>\n",
       "</div>"
      ],
      "text/plain": [
       "           wl_nm  transmission\n",
       "0     454.050074      0.000000\n",
       "1     463.770250      0.000000\n",
       "2     472.606775      0.000000\n",
       "3     507.069219      0.000000\n",
       "4     536.229750      0.000000\n",
       "..           ...           ...\n",
       "174  1101.806290      0.025735\n",
       "175  1109.746167      0.016912\n",
       "176  1115.921987      0.010294\n",
       "177  1122.978212      0.001471\n",
       "178  1129.157281      0.000000\n",
       "\n",
       "[179 rows x 2 columns]"
      ]
     },
     "execution_count": 4,
     "metadata": {},
     "output_type": "execute_result"
    }
   ],
   "source": [
    "tess_response"
   ]
  },
  {
   "cell_type": "code",
   "execution_count": 5,
   "id": "ae4492ab",
   "metadata": {},
   "outputs": [],
   "source": [
    "filter_curve = Spectrum1D(spectral_axis=tess_response.wl_nm.values*u.nm, \n",
    "           flux=tess_response.transmission.values*u.dimensionless_unscaled)"
   ]
  },
  {
   "cell_type": "markdown",
   "id": "2fe8ccbe",
   "metadata": {},
   "source": [
    "to be continued..."
   ]
  },
  {
   "cell_type": "code",
   "execution_count": 6,
   "id": "03b2efaa",
   "metadata": {},
   "outputs": [],
   "source": [
    "spec1 = PHOENIXSpectrum(path='../../../data/phoenix.astro.physik.uni-goettingen.de/HiResFITS/PHOENIX-ACES-AGSS-COND-2011/',\n",
    "                       wl_lo=4000, wl_hi=12000, teff = 5700, logg = 4, metallicity = 0)\n",
    "spec2 = PHOENIXSpectrum(path='../../../data/phoenix.astro.physik.uni-goettingen.de/HiResFITS/PHOENIX-ACES-AGSS-COND-2011/',\n",
    "                       wl_lo=4000, wl_hi=12000, teff = 4200, logg = 4, metallicity = 0)"
   ]
  },
  {
   "cell_type": "code",
   "execution_count": 7,
   "id": "c1a04202",
   "metadata": {},
   "outputs": [],
   "source": [
    "resampled_spec1 = spec1.instrumental_broaden(resolving_power=300).resample(filter_curve)\n",
    "resampled_spec2 = spec2.instrumental_broaden(resolving_power=300).resample(filter_curve)"
   ]
  },
  {
   "cell_type": "code",
   "execution_count": 8,
   "id": "8dd86d15",
   "metadata": {},
   "outputs": [],
   "source": [
    "normalization_scalar = np.percentile(resampled_spec1.flux, 95)"
   ]
  },
  {
   "cell_type": "code",
   "execution_count": 9,
   "id": "3ae37550",
   "metadata": {},
   "outputs": [],
   "source": [
    "normalized_spec1 = resampled_spec1.divide(normalization_scalar)\n",
    "normalized_spec2 = resampled_spec2.divide(normalization_scalar)"
   ]
  },
  {
   "cell_type": "code",
   "execution_count": 10,
   "id": "19d2feea",
   "metadata": {},
   "outputs": [
    {
     "data": {
      "text/plain": [
       "(0.0, 1.25)"
      ]
     },
     "execution_count": 10,
     "metadata": {},
     "output_type": "execute_result"
    },
    {
     "data": {
      "image/png": "[encoded data removed]",
      "text/plain": [
       "<Figure size 720x288 with 1 Axes>"
      ]
     },
     "metadata": {
      "image/png": {
       "height": 264,
       "width": 608
      },
      "needs_background": "light"
     },
     "output_type": "display_data"
    }
   ],
   "source": [
    "ax = normalized_spec1.plot(label='teff = 5700')\n",
    "normalized_spec2.plot(ax=ax, label='teff = 4200')\n",
    "ax.step(filter_curve.wavelength, filter_curve.flux, label='TESS filter curve');\n",
    "ax.legend()\n",
    "ax.set_ylim(0, 1.25)"
   ]
  },
  {
   "cell_type": "markdown",
   "id": "1d1f86ac",
   "metadata": {},
   "source": [
    "Yay! We overplotted the filter curve and the stellar spectrum. The filter was coursely sampled, which is acceptable for most applications."
   ]
  },
  {
   "cell_type": "code",
   "execution_count": 11,
   "id": "e63d0ada",
   "metadata": {},
   "outputs": [
    {
     "data": {
      "text/latex": [
       "$0.26478967 \\; \\mathrm{}$"
      ],
      "text/plain": [
       "<Quantity 0.26478967>"
      ]
     },
     "execution_count": 11,
     "metadata": {},
     "output_type": "execute_result"
    }
   ],
   "source": [
    "area_under_the_curve1 = np.sum(normalized_spec1.flux*filter_curve.flux)\n",
    "area_under_the_curve2 = np.sum(normalized_spec2.flux*filter_curve.flux)\n",
    "ratio = area_under_the_curve2/area_under_the_curve1\n",
    "ratio"
   ]
  },
  {
   "cell_type": "code",
   "execution_count": null,
   "id": "8a96cb8b",
   "metadata": {},
   "outputs": [],
   "source": []
  }
 ],
 "metadata": {
  "kernelspec": {
   "display_name": "Python 3",
   "language": "python",
   "name": "python3"
  },
  "language_info": {
   "codemirror_mode": {
    "name": "ipython",
    "version": 3
   },
   "file_extension": ".py",
   "mimetype": "text/x-python",
   "name": "python",
   "nbconvert_exporter": "python",
   "pygments_lexer": "ipython3",
   "version": "3.8.13"
  }
 },
 "nbformat": 4,
 "nbformat_minor": 5
}
