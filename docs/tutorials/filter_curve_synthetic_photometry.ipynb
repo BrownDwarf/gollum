{
 "cells": [
  {
   "cell_type": "markdown",
   "id": "9aacc247",
   "metadata": {},
   "source": [
    "# Integrating under a filter curve with `gollum`\n",
    "\n",
    "Synthetic photometry is common technique to compare the predicted flux in a given astronomical filter to the observed flux seen in images.  Here we show how to generate synthetic photometry."
   ]
  },
  {
   "cell_type": "code",
   "execution_count": 1,
   "id": "9e54e2c6",
   "metadata": {},
   "outputs": [],
   "source": [
    "from gollum.phoenix import PHOENIXGrid, PHOENIXSpectrum\n",
    "from specutils import Spectrum1D\n",
    "import pandas as pd\n",
    "import astropy.units as u\n",
    "import numpy as np\n",
    "\n",
    "import matplotlib.pyplot as plt\n",
    "%config InlineBackend.figure_format = 'retina'"
   ]
  },
  {
   "cell_type": "markdown",
   "id": "8e6e05d6",
   "metadata": {},
   "source": [
    "## Fetch the filter curve"
   ]
  },
  {
   "cell_type": "code",
   "execution_count": 2,
   "id": "e10d2d53",
   "metadata": {},
   "outputs": [],
   "source": [
    "tess_filter_curve_website = 'https://heasarc.gsfc.nasa.gov/docs/tess/data/tess-response-function-v1.0.csv'"
   ]
  },
  {
   "cell_type": "code",
   "execution_count": 3,
   "id": "5d9b139f",
   "metadata": {},
   "outputs": [],
   "source": [
    "tess_response = pd.read_csv(tess_filter_curve_website, skiprows=8, names=['wl_nm', 'transmission'])"
   ]
  },
  {
   "cell_type": "code",
   "execution_count": 4,
   "id": "8db141f2",
   "metadata": {},
   "outputs": [
    {
     "data": {
      "text/html": [
       "<div>\n",
       "<style scoped>\n",
       "    .dataframe tbody tr th:only-of-type {\n",
       "        vertical-align: middle;\n",
       "    }\n",
       "\n",
       "    .dataframe tbody tr th {\n",
       "        vertical-align: top;\n",
       "    }\n",
       "\n",
       "    .dataframe thead th {\n",
       "        text-align: right;\n",
       "    }\n",
       "</style>\n",
       "<table border=\"1\" class=\"dataframe\">\n",
       "  <thead>\n",
       "    <tr style=\"text-align: right;\">\n",
       "      <th></th>\n",
       "      <th>wl_nm</th>\n",
       "      <th>transmission</th>\n",
       "    </tr>\n",
       "  </thead>\n",
       "  <tbody>\n",
       "    <tr>\n",
       "      <th>174</th>\n",
       "      <td>1101.806290</td>\n",
       "      <td>0.025735</td>\n",
       "    </tr>\n",
       "    <tr>\n",
       "      <th>175</th>\n",
       "      <td>1109.746167</td>\n",
       "      <td>0.016912</td>\n",
       "    </tr>\n",
       "    <tr>\n",
       "      <th>176</th>\n",
       "      <td>1115.921987</td>\n",
       "      <td>0.010294</td>\n",
       "    </tr>\n",
       "    <tr>\n",
       "      <th>177</th>\n",
       "      <td>1122.978212</td>\n",
       "      <td>0.001471</td>\n",
       "    </tr>\n",
       "    <tr>\n",
       "      <th>178</th>\n",
       "      <td>1129.157281</td>\n",
       "      <td>0.000000</td>\n",
       "    </tr>\n",
       "  </tbody>\n",
       "</table>\n",
       "</div>"
      ],
      "text/plain": [
       "           wl_nm  transmission\n",
       "174  1101.806290      0.025735\n",
       "175  1109.746167      0.016912\n",
       "176  1115.921987      0.010294\n",
       "177  1122.978212      0.001471\n",
       "178  1129.157281      0.000000"
      ]
     },
     "execution_count": 4,
     "metadata": {},
     "output_type": "execute_result"
    }
   ],
   "source": [
    "tess_response.tail()"
   ]
  },
  {
   "cell_type": "code",
   "execution_count": 5,
   "id": "ae4492ab",
   "metadata": {},
   "outputs": [],
   "source": [
    "filter_curve = Spectrum1D(spectral_axis=tess_response.wl_nm.values*u.nm, \n",
    "           flux=tess_response.transmission.values*u.dimensionless_unscaled)"
   ]
  },
  {
   "cell_type": "markdown",
   "id": "2fe8ccbe",
   "metadata": {},
   "source": [
    "to be continued..."
   ]
  },
  {
   "cell_type": "code",
   "execution_count": null,
   "id": "03b2efaa",
   "metadata": {},
   "outputs": [],
   "source": []
  },
  {
   "cell_type": "code",
   "execution_count": null,
   "id": "11d2387b",
   "metadata": {},
   "outputs": [],
   "source": []
  },
  {
   "cell_type": "code",
   "execution_count": null,
   "id": "e63d0ada",
   "metadata": {},
   "outputs": [],
   "source": []
  },
  {
   "cell_type": "markdown",
   "id": "5ed9e848",
   "metadata": {},
   "source": [
    "### Telling gollum where to find your local files\n",
    "\n",
    "The online installation guide shows [how to download and store the PHOENIX models](https://gollum-astro.readthedocs.io/en/latest/fetching_models.html).  In order to run the code below, you will need to update the `my_path` variable to the correct path on your local machine.  \n",
    "\n",
    "In this demo, the `PHOENIX/` folder is houses all of the voluminous models:"
   ]
  },
  {
   "cell_type": "code",
   "execution_count": null,
   "id": "4bdf507a",
   "metadata": {},
   "outputs": [],
   "source": [
    "grid = PHOENIXGrid(teff_range=(2500, 7000), logg_range=(2, 5), metallicity_range=(0, 0.5), wl_lo= 16200, wl_hi= 16400)"
   ]
  }
 ],
 "metadata": {
  "kernelspec": {
   "display_name": "Python 3 (ipykernel)",
   "language": "python",
   "name": "python3"
  },
  "language_info": {
   "codemirror_mode": {
    "name": "ipython",
    "version": 3
   },
   "file_extension": ".py",
   "mimetype": "text/x-python",
   "name": "python",
   "nbconvert_exporter": "python",
   "pygments_lexer": "ipython3",
   "version": "3.8.10"
  }
 },
 "nbformat": 4,
 "nbformat_minor": 5
}
