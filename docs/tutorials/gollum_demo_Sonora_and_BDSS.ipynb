{
 "cells": [
  {
   "cell_type": "markdown",
   "id": "9aacc247",
   "metadata": {},
   "source": [
    "# Interactively fit Brown Dwarf Spectra with the `gollum` dashboard\n",
    "\n",
    "In this tutorial we will see how the spectra of brown dwarfs vary as a function of their intrinsic properties.  We will fit observed spectra of a particular brown dwarf with the gollum dashboard, a dashboard which fits models based on properties including [effective temperature](https://en.wikipedia.org/wiki/Effective_temperature), [surface gravity](https://en.wikipedia.org/wiki/Surface_gravity), [metallicity](https://en.wikipedia.org/wiki/Metallicity), [rotational broadening](https://phys.libretexts.org/Bookshelves/Astronomy__Cosmology/Stellar_Atmospheres_(Tatum)/10%3A_Line_Profiles/10.06%3A_Rotational_Broadening), and [radial velocity](https://en.wikipedia.org/wiki/Radial_velocity#:~:text=The%20radial%20velocity%20of%20an,the%20point%20and%20the%20object.). The fitting for this tutorial will be based on the Sonora-Bobcat 2021 models, which takes into account effective temperature, surface gravity, and metallicity as intrinsic values."
   ]
  },
  {
   "cell_type": "code",
   "execution_count": 1,
   "id": "9e54e2c6",
   "metadata": {},
   "outputs": [],
   "source": [
    "from gollum.sonora import SonoraGrid\n",
    "from specutils import Spectrum1D\n",
    "import pandas as pd\n",
    "import astropy.units as u"
   ]
  },
  {
   "cell_type": "code",
   "execution_count": 2,
   "id": "ff4fbe7a",
   "metadata": {},
   "outputs": [],
   "source": [
    "from IPython.display import HTML\n",
    "from IPython.display import Image"
   ]
  },
  {
   "cell_type": "markdown",
   "id": "7276493f",
   "metadata": {},
   "source": [
    "First, we will read in an example spectrum of this [ultracool dwarf](https://en.wikipedia.org/wiki/Ultra-cool_dwarf):  \n",
    "\n",
    "[2MASS J05591914-1404488](http://simbad.u-strasbg.fr/simbad/sim-id?Ident=2MASS+J05591914-1404488&NbIdent=1&Radius=2&Radius.unit=arcmin&submit=submit+id)\n",
    "\n",
    "We got its data from the Keck Telescope's [NIRSPEC spectrograph](https://www2.keck.hawaii.edu/inst/nirspec/). A specific section of this data is displayed below."
   ]
  },
  {
   "cell_type": "code",
   "execution_count": 3,
   "id": "aaa230b5",
   "metadata": {},
   "outputs": [],
   "source": [
    "df = pd.read_csv('../../data/2mass0559_59.dat', sep=r'\\s+', comment='#', names=['wave', 'flux'])"
   ]
  },
  {
   "cell_type": "code",
   "execution_count": 4,
   "id": "c0af6965",
   "metadata": {},
   "outputs": [
    {
     "data": {
      "text/html": [
       "<div>\n",
       "<style scoped>\n",
       "    .dataframe tbody tr th:only-of-type {\n",
       "        vertical-align: middle;\n",
       "    }\n",
       "\n",
       "    .dataframe tbody tr th {\n",
       "        vertical-align: top;\n",
       "    }\n",
       "\n",
       "    .dataframe thead th {\n",
       "        text-align: right;\n",
       "    }\n",
       "</style>\n",
       "<table border=\"1\" class=\"dataframe\">\n",
       "  <thead>\n",
       "    <tr style=\"text-align: right;\">\n",
       "      <th></th>\n",
       "      <th>wave</th>\n",
       "      <th>flux</th>\n",
       "    </tr>\n",
       "  </thead>\n",
       "  <tbody>\n",
       "    <tr>\n",
       "      <th>0</th>\n",
       "      <td>1.282854</td>\n",
       "      <td>0.899982</td>\n",
       "    </tr>\n",
       "    <tr>\n",
       "      <th>1</th>\n",
       "      <td>1.282873</td>\n",
       "      <td>0.934131</td>\n",
       "    </tr>\n",
       "    <tr>\n",
       "      <th>2</th>\n",
       "      <td>1.282891</td>\n",
       "      <td>0.942304</td>\n",
       "    </tr>\n",
       "    <tr>\n",
       "      <th>3</th>\n",
       "      <td>1.282910</td>\n",
       "      <td>0.914649</td>\n",
       "    </tr>\n",
       "    <tr>\n",
       "      <th>4</th>\n",
       "      <td>1.282928</td>\n",
       "      <td>0.931263</td>\n",
       "    </tr>\n",
       "  </tbody>\n",
       "</table>\n",
       "</div>"
      ],
      "text/plain": [
       "       wave      flux\n",
       "0  1.282854  0.899982\n",
       "1  1.282873  0.934131\n",
       "2  1.282891  0.942304\n",
       "3  1.282910  0.914649\n",
       "4  1.282928  0.931263"
      ]
     },
     "execution_count": 4,
     "metadata": {},
     "output_type": "execute_result"
    }
   ],
   "source": [
    "df.head()"
   ]
  },
  {
   "cell_type": "markdown",
   "id": "7689e1b6",
   "metadata": {},
   "source": [
    "The unit for wavelength here is [microns](https://en.wikipedia.org/wiki/Micrometre) and the unit for flux is \"counts\"."
   ]
  },
  {
   "cell_type": "code",
   "execution_count": 5,
   "id": "b0385025",
   "metadata": {},
   "outputs": [],
   "source": [
    "bdss_spectrum = Spectrum1D(spectral_axis=df.wave.values*u.micron, flux=df.flux.values*u.ct)"
   ]
  },
  {
   "cell_type": "code",
   "execution_count": 6,
   "id": "761b08e9",
   "metadata": {},
   "outputs": [],
   "source": [
    "wl_lo, wl_hi = (bdss_spectrum.wavelength.value.min(), bdss_spectrum.wavelength.value.max())"
   ]
  },
  {
   "cell_type": "markdown",
   "id": "af70bb92",
   "metadata": {},
   "source": [
    "Next, we can read in the Sonora-Bobcat grid and show an interactive dashboard.  "
   ]
  },
  {
   "cell_type": "code",
   "execution_count": 7,
   "id": "2d297a2a",
   "metadata": {},
   "outputs": [
    {
     "name": "stderr",
     "output_type": "stream",
     "text": [
      "Processing Teff=500K|logg=3.00|Z=-0.5:   0%|          | 0/891 [00:00<?, ?it/s]\n"
     ]
    },
    {
     "ename": "AssertionError",
     "evalue": "Given path does not exist.",
     "output_type": "error",
     "traceback": [
      "\u001b[0;31m---------------------------------------------------------------------------\u001b[0m",
      "\u001b[0;31mAssertionError\u001b[0m                            Traceback (most recent call last)",
      "Cell \u001b[0;32mIn[7], line 1\u001b[0m\n\u001b[0;32m----> 1\u001b[0m grid \u001b[38;5;241m=\u001b[39m \u001b[43mSonoraGrid\u001b[49m\u001b[43m(\u001b[49m\u001b[43mwl_lo\u001b[49m\u001b[38;5;241;43m=\u001b[39;49m\u001b[43mwl_lo\u001b[49m\u001b[43m,\u001b[49m\u001b[43m \u001b[49m\u001b[43mwl_hi\u001b[49m\u001b[38;5;241;43m=\u001b[39;49m\u001b[43mwl_hi\u001b[49m\u001b[43m)\u001b[49m\n",
      "File \u001b[0;32m~/github/gollum/src/gollum/sonora.py:361\u001b[0m, in \u001b[0;36mSonoraGrid.__init__\u001b[0;34m(self, teff_range, logg_range, metallicity_range, path, wl_lo, wl_hi, **kwargs)\u001b[0m\n\u001b[1;32m    359\u001b[0m pbar\u001b[38;5;241m.\u001b[39mdesc \u001b[38;5;241m=\u001b[39m \u001b[38;5;124mf\u001b[39m\u001b[38;5;124m\"\u001b[39m\u001b[38;5;124mProcessing Teff=\u001b[39m\u001b[38;5;132;01m{\u001b[39;00mteff\u001b[38;5;132;01m}\u001b[39;00m\u001b[38;5;124mK|logg=\u001b[39m\u001b[38;5;132;01m{\u001b[39;00mlogg\u001b[38;5;132;01m:\u001b[39;00m\u001b[38;5;124m0.2f\u001b[39m\u001b[38;5;132;01m}\u001b[39;00m\u001b[38;5;124m|Z=\u001b[39m\u001b[38;5;132;01m{\u001b[39;00mZ\u001b[38;5;132;01m:\u001b[39;00m\u001b[38;5;124m0.1f\u001b[39m\u001b[38;5;132;01m}\u001b[39;00m\u001b[38;5;124m\"\u001b[39m\n\u001b[1;32m    360\u001b[0m \u001b[38;5;28;01mtry\u001b[39;00m:\n\u001b[0;32m--> 361\u001b[0m     spec \u001b[38;5;241m=\u001b[39m \u001b[43mSonoraSpectrum\u001b[49m\u001b[43m(\u001b[49m\n\u001b[1;32m    362\u001b[0m \u001b[43m        \u001b[49m\u001b[43mteff\u001b[49m\u001b[38;5;241;43m=\u001b[39;49m\u001b[43mteff\u001b[49m\u001b[43m,\u001b[49m\n\u001b[1;32m    363\u001b[0m \u001b[43m        \u001b[49m\u001b[43mlogg\u001b[49m\u001b[38;5;241;43m=\u001b[39;49m\u001b[43mlogg\u001b[49m\u001b[43m,\u001b[49m\n\u001b[1;32m    364\u001b[0m \u001b[43m        \u001b[49m\u001b[43mmetallicity\u001b[49m\u001b[38;5;241;43m=\u001b[39;49m\u001b[43mZ\u001b[49m\u001b[43m,\u001b[49m\n\u001b[1;32m    365\u001b[0m \u001b[43m        \u001b[49m\u001b[43mpath\u001b[49m\u001b[38;5;241;43m=\u001b[39;49m\u001b[43mpath\u001b[49m\u001b[43m,\u001b[49m\n\u001b[1;32m    366\u001b[0m \u001b[43m        \u001b[49m\u001b[43mwl_lo\u001b[49m\u001b[38;5;241;43m=\u001b[39;49m\u001b[43mwl_lo\u001b[49m\u001b[43m,\u001b[49m\n\u001b[1;32m    367\u001b[0m \u001b[43m        \u001b[49m\u001b[43mwl_hi\u001b[49m\u001b[38;5;241;43m=\u001b[39;49m\u001b[43mwl_hi\u001b[49m\u001b[43m,\u001b[49m\n\u001b[1;32m    368\u001b[0m \u001b[43m    \u001b[49m\u001b[43m)\u001b[49m\n\u001b[1;32m    369\u001b[0m     wavelengths\u001b[38;5;241m.\u001b[39mappend(spec\u001b[38;5;241m.\u001b[39mwavelength)\n\u001b[1;32m    370\u001b[0m     fluxes\u001b[38;5;241m.\u001b[39mappend(spec\u001b[38;5;241m.\u001b[39mflux)\n",
      "File \u001b[0;32m~/github/gollum/src/gollum/sonora.py:256\u001b[0m, in \u001b[0;36mSonora2021Spectrum.__init__\u001b[0;34m(self, teff, logg, metallicity, path, wl_lo, wl_hi, *args, **kwargs)\u001b[0m\n\u001b[1;32m    254\u001b[0m \u001b[38;5;28;01mif\u001b[39;00m teff \u001b[38;5;129;01mand\u001b[39;00m logg:\n\u001b[1;32m    255\u001b[0m     base_path \u001b[38;5;241m=\u001b[39m os\u001b[38;5;241m.\u001b[39mpath\u001b[38;5;241m.\u001b[39mexpanduser(path)\n\u001b[0;32m--> 256\u001b[0m     \u001b[38;5;28;01massert\u001b[39;00m os\u001b[38;5;241m.\u001b[39mpath\u001b[38;5;241m.\u001b[39mexists(base_path), \u001b[38;5;124m\"\u001b[39m\u001b[38;5;124mGiven path does not exist.\u001b[39m\u001b[38;5;124m\"\u001b[39m\n\u001b[1;32m    257\u001b[0m     \u001b[38;5;28;01massert\u001b[39;00m teff \u001b[38;5;129;01min\u001b[39;00m teff_points, \u001b[38;5;124m\"\u001b[39m\u001b[38;5;124mteff must be a point on the grid\u001b[39m\u001b[38;5;124m\"\u001b[39m\n\u001b[1;32m    258\u001b[0m     \u001b[38;5;28;01massert\u001b[39;00m logg \u001b[38;5;129;01min\u001b[39;00m logg_points, \u001b[38;5;124m\"\u001b[39m\u001b[38;5;124mlogg must be a point on the grid\u001b[39m\u001b[38;5;124m\"\u001b[39m\n",
      "\u001b[0;31mAssertionError\u001b[0m: Given path does not exist."
     ]
    }
   ],
   "source": [
    "grid = SonoraGrid(wl_lo=wl_lo, wl_hi=wl_hi)"
   ]
  },
  {
   "cell_type": "markdown",
   "id": "fb6d9cf1",
   "metadata": {},
   "source": [
    "Awesome!  Now you can hand-in a data spectrum to overlay it onto the grid and begin fitting using the interactive sliders."
   ]
  },
  {
   "cell_type": "code",
   "execution_count": null,
   "id": "d25f222c",
   "metadata": {},
   "outputs": [],
   "source": [
    "grid.show_dashboard(data=bdss_spectrum, show_telluric=False)"
   ]
  },
  {
   "cell_type": "markdown",
   "id": "dc73cf85",
   "metadata": {},
   "source": [
    "![dashboard demo](https://user-images.githubusercontent.com/98151293/167173097-31427d83-f7fc-4146-a520-34e6b97b3b1b.gif)"
   ]
  },
  {
   "cell_type": "markdown",
   "id": "a1f1bf1e",
   "metadata": {},
   "source": [
    "The dashboard looks great!"
   ]
  }
 ],
 "metadata": {
  "kernelspec": {
   "display_name": "Python 3 (ipykernel)",
   "language": "python",
   "name": "python3"
  },
  "language_info": {
   "codemirror_mode": {
    "name": "ipython",
    "version": 3
   },
   "file_extension": ".py",
   "mimetype": "text/x-python",
   "name": "python",
   "nbconvert_exporter": "python",
   "pygments_lexer": "ipython3",
   "version": "3.12.1"
  }
 },
 "nbformat": 4,
 "nbformat_minor": 5
}
