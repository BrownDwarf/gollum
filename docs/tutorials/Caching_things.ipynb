{
 "cells": [
  {
   "cell_type": "markdown",
   "metadata": {},
   "source": [
    "### HOW TO CACHE YOUR STUFF\n",
    "\n",
    "Experimental!  Quantifying [Issue 12](https://github.com/BrownDwarf/gollum/issues/12)"
   ]
  },
  {
   "cell_type": "code",
   "execution_count": 1,
   "metadata": {},
   "outputs": [],
   "source": [
    "from gollum.phoenix import PHOENIXGrid, PHOENIXSpectrum\n",
    "import numpy as np\n",
    "import astropy.units as u\n",
    "from time import time"
   ]
  },
  {
   "cell_type": "code",
   "execution_count": 35,
   "metadata": {},
   "outputs": [
    {
     "name": "stderr",
     "output_type": "stream",
     "text": [
      "Processing Teff=12000K|log(g)=6.00|Z=+0.0: 100%|█| 657/657 [00:34<00:00, 18.81it\n"
     ]
    },
    {
     "name": "stdout",
     "output_type": "stream",
     "text": [
      "CPU times: user 6.22 s, sys: 6.99 s, total: 13.2 s\n",
      "Wall time: 49.7 s\n"
     ]
    }
   ],
   "source": [
    "%%time\n",
    "grid = PHOENIXGrid(teff_range=None, logg_range=None, metallicity_range=(0, 0))"
   ]
  },
  {
   "cell_type": "code",
   "execution_count": 2,
   "metadata": {},
   "outputs": [
    {
     "name": "stderr",
     "output_type": "stream",
     "text": [
      "Processing Teff=10000K|log(g)=5.00|Z=+0.5: 100%|█| 854/854 [00:33<00:00, 25.25it\n"
     ]
    },
    {
     "name": "stdout",
     "output_type": "stream",
     "text": [
      "CPU times: user 7.96 s, sys: 6.18 s, total: 14.1 s\n",
      "Wall time: 41 s\n"
     ]
    }
   ],
   "source": [
    "#%%time\n",
    "#grid = PHOENIXGrid(teff_range=(2500,10000), logg_range=(1, 5), metallicity_range=(0, 0.5))"
   ]
  },
  {
   "cell_type": "code",
   "execution_count": 36,
   "metadata": {},
   "outputs": [
    {
     "name": "stdout",
     "output_type": "stream",
     "text": [
      "CPU times: user 788 ms, sys: 3.62 s, total: 4.41 s\n",
      "Wall time: 7.91 s\n"
     ]
    }
   ],
   "source": [
    "%%time\n",
    "flux_array = np.vstack([spec.flux.value for spec in grid])\n",
    "np.save(\"flux_array.npy\", flux_array)"
   ]
  },
  {
   "cell_type": "code",
   "execution_count": 4,
   "metadata": {},
   "outputs": [
    {
     "name": "stdout",
     "output_type": "stream",
     "text": [
      "CPU times: user 862 µs, sys: 551 ms, total: 552 ms\n",
      "Wall time: 2.18 s\n"
     ]
    }
   ],
   "source": [
    "%%time\n",
    "flux_array2 = np.load(\"flux_array.npy\")"
   ]
  },
  {
   "cell_type": "code",
   "execution_count": 8,
   "metadata": {},
   "outputs": [
    {
     "name": "stdout",
     "output_type": "stream",
     "text": [
      "0.013633093525179855\n"
     ]
    }
   ],
   "source": [
    "print(.758/55.6)"
   ]
  },
  {
   "cell_type": "code",
   "execution_count": 9,
   "metadata": {},
   "outputs": [],
   "source": [
    "fixed_axis = grid[0].spectral_axis\n",
    "fixed_unit = grid[0].flux.unit"
   ]
  },
  {
   "cell_type": "code",
   "execution_count": 10,
   "metadata": {},
   "outputs": [
    {
     "data": {
      "text/latex": [
       "$\\mathrm{\\frac{erg}{s\\,cm^{3}}}$"
      ],
      "text/plain": [
       "Unit(\"erg / (cm3 s)\")"
      ]
     },
     "execution_count": 10,
     "metadata": {},
     "output_type": "execute_result"
    }
   ],
   "source": [
    "grid[0].flux.unit"
   ]
  },
  {
   "cell_type": "code",
   "execution_count": 11,
   "metadata": {},
   "outputs": [
    {
     "name": "stdout",
     "output_type": "stream",
     "text": [
      "CPU times: user 1.32 s, sys: 2.14 s, total: 3.47 s\n",
      "Wall time: 9.75 s\n"
     ]
    }
   ],
   "source": [
    "%%time\n",
    "spec_list = [PHOENIXSpectrum(flux=flux_array2[i,:]*fixed_unit, spectral_axis=fixed_axis) for i in range(grid.n_spectra)]"
   ]
  },
  {
   "cell_type": "code",
   "execution_count": 12,
   "metadata": {},
   "outputs": [],
   "source": [
    "from specutils import SpectrumList, SpectrumCollection"
   ]
  },
  {
   "cell_type": "code",
   "execution_count": 13,
   "metadata": {},
   "outputs": [
    {
     "data": {
      "text/plain": [
       "((338649, 854), (338649,))"
      ]
     },
     "execution_count": 13,
     "metadata": {},
     "output_type": "execute_result"
    }
   ],
   "source": [
    "flux_array2.T.shape, fixed_axis.shape"
   ]
  },
  {
   "cell_type": "code",
   "execution_count": 14,
   "metadata": {},
   "outputs": [],
   "source": []
  },
  {
   "cell_type": "code",
   "execution_count": null,
   "metadata": {},
   "outputs": [],
   "source": [
    "spectral_axis_2D = np.repeat([fixed_axis.value], len(grid), axis=0)*u.Angstrom"
   ]
  },
  {
   "cell_type": "code",
   "execution_count": 32,
   "metadata": {},
   "outputs": [
    {
     "data": {
      "text/plain": [
       "SpectrumCollection(ndim=1, shape=(854,))\n",
       "    Flux units:          erg / (cm3 s)\n",
       "    Spectral axis units: Angstrom\n",
       "    Uncertainty type:    None"
      ]
     },
     "execution_count": 32,
     "metadata": {},
     "output_type": "execute_result"
    }
   ],
   "source": [
    "SpectrumCollection(flux = flux_array2*fixed_unit, spectral_axis=spectral_axis_2D)"
   ]
  },
  {
   "cell_type": "markdown",
   "metadata": {},
   "source": [
    "## Finale: \"Round trip\" to the grid\n",
    "\n",
    "Technically, we are still missing metadata though, so this implementation experiment is **incomplete**!"
   ]
  },
  {
   "cell_type": "code",
   "execution_count": 34,
   "metadata": {},
   "outputs": [
    {
     "name": "stdout",
     "output_type": "stream",
     "text": [
      "it worked!\n",
      "CPU times: user 403 ms, sys: 2.54 s, total: 2.94 s\n",
      "Wall time: 7.46 s\n"
     ]
    }
   ],
   "source": [
    "%%time\n",
    "grid2=PHOENIXGrid(flux=flux_array2*fixed_unit, \n",
    "                    spectral_axis = np.repeat([fixed_axis.value], 854, axis=0)*u.Angstrom, )"
   ]
  },
  {
   "cell_type": "code",
   "execution_count": 37,
   "metadata": {},
   "outputs": [
    {
     "data": {
      "text/plain": [
       "(338649,)"
      ]
     },
     "execution_count": 37,
     "metadata": {},
     "output_type": "execute_result"
    }
   ],
   "source": [
    "flux_array2[1,:].shape"
   ]
  }
 ],
 "metadata": {
  "kernelspec": {
   "display_name": "Python 3 (ipykernel)",
   "language": "python",
   "name": "python3"
  },
  "language_info": {
   "codemirror_mode": {
    "name": "ipython",
    "version": 3
   },
   "file_extension": ".py",
   "mimetype": "text/x-python",
   "name": "python",
   "nbconvert_exporter": "python",
   "pygments_lexer": "ipython3",
   "version": "3.8.10"
  },
  "vscode": {
   "interpreter": {
    "hash": "b208eab2ad63a371e0d5cfbce246ab4fec220b692689be00b4d20802a306a4f1"
   }
  }
 },
 "nbformat": 4,
 "nbformat_minor": 2
}
