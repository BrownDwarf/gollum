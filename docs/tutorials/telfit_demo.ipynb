{
 "cells": [
  {
   "cell_type": "markdown",
   "id": "a010a223",
   "metadata": {},
   "source": [
    "# TelFit demo"
   ]
  },
  {
   "cell_type": "code",
   "execution_count": null,
   "id": "2eedb4a4",
   "metadata": {},
   "outputs": [],
   "source": [
    "import pandas as pd\n",
    "import astropy.units as u\n",
    "import matplotlib.pyplot as plt\n",
    "import numpy as np\n",
    "%matplotlib inline\n",
    "%config InlineBackend.figure_format='retina'"
   ]
  },
  {
   "cell_type": "markdown",
   "id": "57a1103c",
   "metadata": {},
   "source": [
    "### Read in an example data file that has telluric absorption"
   ]
  },
  {
   "cell_type": "code",
   "execution_count": null,
   "id": "a70ef4a1",
   "metadata": {},
   "outputs": [],
   "source": [
    "from muler.hpf import HPFSpectrum"
   ]
  },
  {
   "cell_type": "code",
   "execution_count": null,
   "id": "865eb18e",
   "metadata": {},
   "outputs": [],
   "source": [
    "file = '../../muler_example_data/HPF/01_A0V_standards/Goldilocks_20210801T083618_v1.0_0036.spectra.fits'\n",
    "data = HPFSpectrum(file=file, order=27)"
   ]
  },
  {
   "cell_type": "code",
   "execution_count": null,
   "id": "98668576",
   "metadata": {},
   "outputs": [],
   "source": [
    "data = data.remove_nans().trim_edges()\n",
    "data = data.sky_subtract(method='vector').deblaze().normalize()\n",
    "data = data.flatten_by_black_body(9_700)"
   ]
  },
  {
   "cell_type": "code",
   "execution_count": null,
   "id": "99f66fca",
   "metadata": {},
   "outputs": [],
   "source": [
    "peak_values = np.percentile(data.flux, 90)\n",
    "data = data.divide(peak_values, handle_meta='ff')"
   ]
  },
  {
   "cell_type": "code",
   "execution_count": null,
   "id": "46f8d67d",
   "metadata": {},
   "outputs": [],
   "source": [
    "ax = data.plot()\n",
    "ax.axhline(1.0, linestyle='dashed', color='k')\n",
    "ax.set_ylim(0);"
   ]
  },
  {
   "cell_type": "markdown",
   "id": "cea70b42",
   "metadata": {},
   "source": [
    "Looks good!  What were the atmospheric conditions on that night?"
   ]
  },
  {
   "cell_type": "code",
   "execution_count": null,
   "id": "07886cb8",
   "metadata": {},
   "outputs": [],
   "source": [
    "temp = data.meta['header']['ENVTEM']\n",
    "humidity = data.meta['header']['ENVHUM']"
   ]
  },
  {
   "cell_type": "code",
   "execution_count": null,
   "id": "5e61c8d5",
   "metadata": {},
   "outputs": [],
   "source": [
    "from astropy.units import temperature"
   ]
  },
  {
   "cell_type": "code",
   "execution_count": null,
   "id": "44aee6cd",
   "metadata": {},
   "outputs": [],
   "source": [
    "temp*u.imperial.deg_F"
   ]
  },
  {
   "cell_type": "code",
   "execution_count": null,
   "id": "c87d5b71",
   "metadata": {},
   "outputs": [],
   "source": [
    "temp_K = (temp*u.imperial.deg_F).to(u.Kelvin, equivalencies=temperature())"
   ]
  },
  {
   "cell_type": "code",
   "execution_count": null,
   "id": "170ef0b9",
   "metadata": {},
   "outputs": [],
   "source": [
    "temp_K"
   ]
  },
  {
   "cell_type": "code",
   "execution_count": null,
   "id": "5378d01a",
   "metadata": {},
   "outputs": [],
   "source": [
    "humidity"
   ]
  },
  {
   "cell_type": "markdown",
   "id": "cb96e413",
   "metadata": {},
   "source": [
    "### Read in a TelFit model"
   ]
  },
  {
   "cell_type": "code",
   "execution_count": null,
   "id": "22f889c5",
   "metadata": {},
   "outputs": [],
   "source": [
    "from gollum.telluric import TelFitSpectrum"
   ]
  },
  {
   "cell_type": "code",
   "execution_count": null,
   "id": "84db96b9",
   "metadata": {},
   "outputs": [],
   "source": [
    "path = '/Volumes/pecos/libraries/raw/telfit/grid_v1p0/'\n",
    "fn = 'telfit_800_1300nm_temp294_hum060.txt'"
   ]
  },
  {
   "cell_type": "code",
   "execution_count": null,
   "id": "daf6b49d",
   "metadata": {},
   "outputs": [],
   "source": [
    "telluric_model = TelFitSpectrum(path=path+fn)"
   ]
  },
  {
   "cell_type": "code",
   "execution_count": null,
   "id": "5cdb3e69",
   "metadata": {},
   "outputs": [],
   "source": [
    "telluric_model = telluric_model.air_to_vacuum()"
   ]
  },
  {
   "cell_type": "code",
   "execution_count": null,
   "id": "b3aa514d",
   "metadata": {},
   "outputs": [],
   "source": [
    "telluric_model = telluric_model.instrumental_broaden(resolving_power=55_000)"
   ]
  },
  {
   "cell_type": "code",
   "execution_count": null,
   "id": "69d46bf1",
   "metadata": {},
   "outputs": [],
   "source": [
    "telluric_model = telluric_model.resample(data)"
   ]
  },
  {
   "cell_type": "code",
   "execution_count": null,
   "id": "01979af8",
   "metadata": {},
   "outputs": [],
   "source": [
    "ax = telluric_model.rv_shift(-7).plot(label='Representative TelFit model', alpha=0.5)\n",
    "data.plot(ax=ax, label='HPF A0V calibrator', alpha=0.5)\n",
    "ax.set_ylim(0)\n",
    "ax.axhline(1.0, linestyle='dotted', color='k')\n",
    "ax.legend();"
   ]
  },
  {
   "cell_type": "markdown",
   "id": "4ee16733",
   "metadata": {},
   "source": [
    "Neat!  Looks like the wavelengths are shifted slightly, possibly due to air/vacuum assumption differences."
   ]
  },
  {
   "cell_type": "code",
   "execution_count": null,
   "id": "f72f36a5",
   "metadata": {},
   "outputs": [],
   "source": [
    "telluric_model.rv_shift(-7)"
   ]
  },
  {
   "cell_type": "code",
   "execution_count": null,
   "id": "971f0297",
   "metadata": {},
   "outputs": [],
   "source": [
    "residual = (data - telluric_model.rv_shift(-7).resample(data))*100.0\n",
    "\n",
    "ax = residual.plot(ylo=-20, yhi=20)\n",
    "ax.axhline(0, linestyle='dashed', color='k')\n",
    "ax.set_ylabel('Residual (%)');"
   ]
  },
  {
   "cell_type": "markdown",
   "id": "09688f2b",
   "metadata": {},
   "source": [
    "It appears that most of the residual structure stems from velocity differences in the model and data."
   ]
  },
  {
   "cell_type": "code",
   "execution_count": null,
   "id": "a459a814",
   "metadata": {},
   "outputs": [],
   "source": [
    "residual = (data - telluric_model.rv_shift(-8.4).resample(data))*100.0\n",
    "\n",
    "ax = residual.plot(ylo=-20, yhi=20)\n",
    "ax.axhline(0, linestyle='dashed', color='k')\n",
    "ax.set_ylabel('Residual (%)');"
   ]
  },
  {
   "cell_type": "markdown",
   "id": "a99ddadb",
   "metadata": {},
   "source": [
    "A 1.4 km/s speed difference seems physically implausible, which makes me think something is funky with either TelFit, Goldilocks, muler, or gollum!"
   ]
  },
  {
   "cell_type": "markdown",
   "id": "c5e1f63b",
   "metadata": {},
   "source": [
    "### Sensitivity analysis\n",
    "\n",
    "How do the lines vary with our parameters of interest?"
   ]
  },
  {
   "cell_type": "code",
   "execution_count": null,
   "id": "91eb2bd1",
   "metadata": {},
   "outputs": [],
   "source": [
    "fn = 'telfit_800_1300nm_temp298_hum060.txt'\n",
    "telluric_model2 = TelFitSpectrum(path=path+fn)"
   ]
  },
  {
   "cell_type": "code",
   "execution_count": null,
   "id": "ddd7219f",
   "metadata": {},
   "outputs": [],
   "source": [
    "telluric_model2 = telluric_model2.air_to_vacuum()\n",
    "telluric_model2 = telluric_model2.instrumental_broaden(resolving_power=55_000).resample(data)\n",
    "\n",
    "jacobian = (telluric_model2 - telluric_model) * 100"
   ]
  },
  {
   "cell_type": "code",
   "execution_count": null,
   "id": "44dfb76e",
   "metadata": {},
   "outputs": [],
   "source": [
    "ax = jacobian.plot()\n",
    "ax.set_ylim(-20, 20)\n",
    "ax.set_ylabel('dTrans / dTemp (%/4K)');\n",
    "ax.set_title('Percent change in transmission for a 4 K Temperature change');"
   ]
  },
  {
   "cell_type": "code",
   "execution_count": null,
   "id": "a305394b",
   "metadata": {},
   "outputs": [],
   "source": [
    "fn = 'telfit_800_1300nm_temp294_hum065.txt'\n",
    "telluric_model3 = TelFitSpectrum(path=path+fn)"
   ]
  },
  {
   "cell_type": "code",
   "execution_count": null,
   "id": "4eb4769a",
   "metadata": {},
   "outputs": [],
   "source": [
    "telluric_model3 = telluric_model3.air_to_vacuum()\n",
    "telluric_model3 = telluric_model3.instrumental_broaden(resolving_power=55_000).resample(data)\n",
    "\n",
    "jacobian = (telluric_model3 - telluric_model) *100"
   ]
  },
  {
   "cell_type": "code",
   "execution_count": null,
   "id": "04fe3177",
   "metadata": {},
   "outputs": [],
   "source": [
    "ax = jacobian.plot()\n",
    "ax.set_ylim(-20, 20)\n",
    "ax.set_ylabel('dTrans / dHumidity (% per 5%)');\n",
    "ax.set_title('Percent change in transmission for a 5 % Humidity change');"
   ]
  },
  {
   "cell_type": "markdown",
   "id": "c105036f",
   "metadata": {},
   "source": [
    "This wavelength region stems from $O_2$ and not $H_2O$, so I think the effect we are seeing here may stem from second order effects such as air versus self broadening parameters?  These look mostly like line width changes...  Not Sure!"
   ]
  }
 ],
 "metadata": {
  "kernelspec": {
   "display_name": "Python 3 (ipykernel)",
   "language": "python",
   "name": "python3"
  },
  "language_info": {
   "codemirror_mode": {
    "name": "ipython",
    "version": 3
   },
   "file_extension": ".py",
   "mimetype": "text/x-python",
   "name": "python",
   "nbconvert_exporter": "python",
   "pygments_lexer": "ipython3",
   "version": "3.8.10"
  }
 },
 "nbformat": 4,
 "nbformat_minor": 5
}
