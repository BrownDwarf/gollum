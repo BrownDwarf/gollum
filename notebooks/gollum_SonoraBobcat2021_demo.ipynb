{
 "cells": [
  {
   "cell_type": "markdown",
   "id": "9aacc247",
   "metadata": {},
   "source": [
    "# Demo of Sonora Bobcat 2021: Metallicity!\n",
    "\n",
    "To run this notebook, you need to download the entire [2021 Sonora Bocat Model Grid](https://zenodo.org/record/5063476#.Yidqmi-B1pQ)."
   ]
  },
  {
   "cell_type": "code",
   "execution_count": 1,
   "id": "9e54e2c6",
   "metadata": {},
   "outputs": [],
   "source": [
    "from gollum.sonora import SonoraGrid\n",
    "from specutils import Spectrum1D\n",
    "import pandas as pd\n",
    "import astropy.units as u\n",
    "import os\n",
    "import glob"
   ]
  },
  {
   "cell_type": "markdown",
   "id": "dca82316",
   "metadata": {},
   "source": [
    "Read in the absolute file names to the Sonora Bobcat 2021 models:"
   ]
  },
  {
   "cell_type": "code",
   "execution_count": 2,
   "id": "726a3add",
   "metadata": {},
   "outputs": [],
   "source": [
    "absolute_fns = glob.glob('/Users/mag3842/libraries/raw/SonoraBobcat2021/sp_t*')"
   ]
  },
  {
   "cell_type": "code",
   "execution_count": 5,
   "id": "60cc0cc4",
   "metadata": {},
   "outputs": [],
   "source": [
    "fn = absolute_fns[0]"
   ]
  },
  {
   "cell_type": "code",
   "execution_count": 7,
   "id": "6c158be0",
   "metadata": {},
   "outputs": [
    {
     "data": {
      "text/plain": [
       "'sp_t1100g31nc_m0.0'"
      ]
     },
     "execution_count": 7,
     "metadata": {},
     "output_type": "execute_result"
    }
   ],
   "source": [
    "os.path.basename(fn)"
   ]
  },
  {
   "cell_type": "code",
   "execution_count": null,
   "id": "e4a16371",
   "metadata": {},
   "outputs": [],
   "source": []
  },
  {
   "cell_type": "code",
   "execution_count": null,
   "id": "04302f8b",
   "metadata": {},
   "outputs": [],
   "source": []
  },
  {
   "cell_type": "code",
   "execution_count": null,
   "id": "c10bdb59",
   "metadata": {},
   "outputs": [],
   "source": [
    "fns = [os.path.basename(fn) for fn in absolute_fns]"
   ]
  },
  {
   "cell_type": "code",
   "execution_count": null,
   "id": "12cc34f5",
   "metadata": {},
   "outputs": [],
   "source": [
    "len(fns)"
   ]
  },
  {
   "cell_type": "code",
   "execution_count": null,
   "id": "a00f5c1f",
   "metadata": {},
   "outputs": [],
   "source": [
    "files_with_gz_suffix = [fn for fn in fns if fn[-3:]=='.gz']\n",
    "files_with_gz_suffix"
   ]
  },
  {
   "cell_type": "code",
   "execution_count": null,
   "id": "576ed7a2",
   "metadata": {},
   "outputs": [],
   "source": [
    "#for i, fn in enumerate(files_with_gz_suffix):\n",
    "#    os.system('gunzip /Users/mag3842/libraries/raw/SonoraBobcat2021/{}'.format(fn))\n",
    "#    if (i % 30) == 0:\n",
    "#        print(i, fn)"
   ]
  },
  {
   "cell_type": "code",
   "execution_count": null,
   "id": "f9392cbe",
   "metadata": {},
   "outputs": [],
   "source": [
    "df = pd.DataFrame({'fn':fns})"
   ]
  },
  {
   "cell_type": "code",
   "execution_count": null,
   "id": "e58d7968",
   "metadata": {},
   "outputs": [],
   "source": [
    "fn = absolute_fns[0]"
   ]
  },
  {
   "cell_type": "code",
   "execution_count": null,
   "id": "c87d0012",
   "metadata": {},
   "outputs": [],
   "source": [
    "fn"
   ]
  },
  {
   "cell_type": "code",
   "execution_count": null,
   "id": "80947255",
   "metadata": {},
   "outputs": [],
   "source": [
    "! head /Users/mag3842/libraries/raw/SonoraBobcat2021/sp_t275g562nc_m+0.5"
   ]
  },
  {
   "cell_type": "code",
   "execution_count": null,
   "id": "aa2c339a",
   "metadata": {},
   "outputs": [],
   "source": []
  },
  {
   "cell_type": "code",
   "execution_count": null,
   "id": "081e6f97",
   "metadata": {},
   "outputs": [],
   "source": [
    "pd.read_csv(fn, nrows=0, delim_whitespace=True).columns"
   ]
  },
  {
   "cell_type": "code",
   "execution_count": null,
   "id": "56a422f9",
   "metadata": {},
   "outputs": [],
   "source": [
    "df.fn.str.split('g').apply(lambda x: x[0]).str[4:]"
   ]
  },
  {
   "cell_type": "code",
   "execution_count": null,
   "id": "bed15675",
   "metadata": {},
   "outputs": [],
   "source": []
  },
  {
   "cell_type": "code",
   "execution_count": null,
   "id": "2d297a2a",
   "metadata": {},
   "outputs": [],
   "source": [
    "#grid = SonoraGrid(wl_lo=wl_lo, wl_hi=wl_hi)"
   ]
  },
  {
   "cell_type": "code",
   "execution_count": null,
   "id": "1eac00c2",
   "metadata": {},
   "outputs": [],
   "source": []
  }
 ],
 "metadata": {
  "kernelspec": {
   "display_name": "Python 3 (ipykernel)",
   "language": "python",
   "name": "python3"
  },
  "language_info": {
   "codemirror_mode": {
    "name": "ipython",
    "version": 3
   },
   "file_extension": ".py",
   "mimetype": "text/x-python",
   "name": "python",
   "nbconvert_exporter": "python",
   "pygments_lexer": "ipython3",
   "version": "3.8.10"
  }
 },
 "nbformat": 4,
 "nbformat_minor": 5
}
