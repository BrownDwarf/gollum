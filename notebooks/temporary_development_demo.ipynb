{
 "cells": [
  {
   "cell_type": "markdown",
   "id": "9aacc247",
   "metadata": {},
   "source": [
    "# Exploratory notebook\n",
    "\n",
    "This is just for practice!"
   ]
  },
  {
   "cell_type": "code",
   "execution_count": null,
   "id": "7b8b1a7d",
   "metadata": {},
   "outputs": [],
   "source": [
    "%load_ext autoreload\n",
    "%autoreload 2"
   ]
  },
  {
   "cell_type": "code",
   "execution_count": null,
   "id": "9e54e2c6",
   "metadata": {},
   "outputs": [],
   "source": [
    "from gollum.sonora import SonoraGrid, SonoraSpectrum\n",
    "from specutils import Spectrum1D\n",
    "import pandas as pd\n",
    "import astropy.units as u"
   ]
  },
  {
   "cell_type": "code",
   "execution_count": null,
   "id": "1eac00c2",
   "metadata": {},
   "outputs": [],
   "source": [
    "demo_spectrum = SonoraSpectrum(teff=1300, logg=4.5)"
   ]
  }
 ],
 "metadata": {
  "kernelspec": {
   "display_name": "Python 3 (ipykernel)",
   "language": "python",
   "name": "python3"
  },
  "language_info": {
   "codemirror_mode": {
    "name": "ipython",
    "version": 3
   },
   "file_extension": ".py",
   "mimetype": "text/x-python",
   "name": "python",
   "nbconvert_exporter": "python",
   "pygments_lexer": "ipython3",
   "version": "3.8.10"
  }
 },
 "nbformat": 4,
 "nbformat_minor": 5
}
